{
 "cells": [
  {
   "cell_type": "markdown",
   "metadata": {},
   "source": [
    "## **Conceptual description of the data**"
   ]
  },
  {
   "cell_type": "markdown",
   "metadata": {},
   "source": [
    "The data set of this project  contains information about Madrid houses extracted from Real State web portals.\n",
    "\n",
    "The data has been obtained from `Kaggle`:  https://www.kaggle.com/datasets/makofe/housesclean"
   ]
  },
  {
   "cell_type": "markdown",
   "metadata": {},
   "source": [
    "The following table summarize conceptually the variables contained in the data set with which we will work along this project."
   ]
  },
  {
   "cell_type": "markdown",
   "metadata": {},
   "source": [
    "| Variable Name | Description | Type |\n",
    "|----------|----------|----------|\n",
    "| `sq_mt_built`    |  size of the house in square meter built   |   Quantitative  |\n",
    "| `n_rooms`    | Number of rooms of the house     | Quantitative  |\n",
    "| `n_bathrooms`   |  Number of bathrooms of the house     |  Quantitative  |\n",
    "| `n_floors`   | Number of floors of the house   |  Quantitative  |\n",
    "| `sq_mt_allotment`   |   for detached houses, full size including house, pool, garden, etc   |  Quantitative  |\n",
    "| `floor`   |  Indicates the house height   |  Multiclass  |\n",
    "| `is_renewal_needed`   |  Indicates wether the house needs renewal or not    |  Binary  |\n",
    "| `has_lift`   |  Indicates wether the house has lift or not     |  Binary  |\n",
    "| `is_exterior`   |  Indicates wether the house is exterior or not    |  Binary  |\n",
    "| `energy_certificate`   |  higher values mean more efficient energy system   |  Multiclass  |\n",
    "| `has_parking`   |  Indicates wether the house has parking or not   |  Binary  |\n",
    "| `neighborhood`   |  Madrid's neighborhoods  |  Multiclass  |\n",
    "| `district`   |  Madrid's districts  |  Multiclass  |\n",
    "| `house_type`   |  Indicates the house type: flat (0), chalet (1), study (2), duplex (3), top floor (4)  |  Multiclass  |\n",
    "| `buy_price`   |  The buy price of the house    |  Quantitative  |"
   ]
  }
 ],
 "metadata": {
  "language_info": {
   "name": "python"
  }
 },
 "nbformat": 4,
 "nbformat_minor": 2
}
